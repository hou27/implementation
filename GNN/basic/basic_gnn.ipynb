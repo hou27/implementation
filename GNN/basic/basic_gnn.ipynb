{
 "cells": [
  {
   "cell_type": "markdown",
   "metadata": {},
   "source": [
    "# Basic GNN Model Implementation"
   ]
  },
  {
   "cell_type": "markdown",
   "metadata": {},
   "source": [
    "### Ver 1"
   ]
  },
  {
   "cell_type": "code",
   "execution_count": 64,
   "metadata": {},
   "outputs": [],
   "source": [
    "import torch\n",
    "import torch.nn.functional as F\n",
    "from torch.nn import Parameter\n",
    "from torch import nn\n",
    "\n",
    "# degree 함수 구현\n",
    "def degree(edge_index, num_nodes):\n",
    "    out_degree = torch.zeros([num_nodes], dtype=torch.float, device=edge_index.device)\n",
    "    row = edge_index[0]\n",
    "    out_degree.scatter_add_(0, row, torch.ones_like(edge_index[0].float()))\n",
    "    return out_degree\n",
    "\n",
    "class BasicGNN(nn.Module):\n",
    "    def __init__(self, input_dims, output_dims):\n",
    "        super().__init__()\n",
    "        self.input_dims = input_dims\n",
    "        self.output_dims = output_dims\n",
    "        self.self_weight = Parameter(torch.FloatTensor(input_dims, output_dims))\n",
    "        self.neighbor_weight = Parameter(torch.FloatTensor(input_dims, output_dims))\n",
    "        self.bias = Parameter(torch.FloatTensor(output_dims))\n",
    "        self.reset_parameters()\n",
    "\n",
    "    def reset_parameters(self):\n",
    "        nn.init.xavier_uniform_(self.self_weight)\n",
    "        nn.init.xavier_uniform_(self.neighbor_weight)\n",
    "        nn.init.zeros_(self.bias)\n",
    "\n",
    "    def forward(self, data):\n",
    "        input_features, edge_index = data.x, data.edge_index\n",
    "        adjacency = self.normalize(edge_index, input_features.size(0))\n",
    "\n",
    "        self_support = torch.mm(input_features, self.self_weight)\n",
    "        neighbor_support = torch.spmm(adjacency, torch.mm(input_features, self.neighbor_weight))\n",
    "        output = self_support + neighbor_support + self.bias\n",
    "        # output = torch.relu(output)\n",
    "        return output\n",
    "\n",
    "    def normalize(self, edge_index, num_nodes):\n",
    "        row, col = edge_index\n",
    "        deg = degree(row, num_nodes)\n",
    "        deg_inv_sqrt = deg.pow(-0.5)\n",
    "        norm = deg_inv_sqrt[row] * deg_inv_sqrt[col]\n",
    "        adj = torch.sparse.FloatTensor(edge_index, norm, torch.Size([num_nodes, num_nodes]))\n",
    "        return adj.to_dense()\n"
   ]
  },
  {
   "cell_type": "markdown",
   "metadata": {},
   "source": [
    "### Load Dataset"
   ]
  },
  {
   "cell_type": "code",
   "execution_count": 44,
   "metadata": {},
   "outputs": [],
   "source": [
    "from torch_geometric.datasets import Planetoid\n",
    "\n",
    "dataset = Planetoid(root='/tmp/Citeseer', name='Citeseer')"
   ]
  },
  {
   "cell_type": "code",
   "execution_count": null,
   "metadata": {},
   "outputs": [],
   "source": [
    "model = BasicGNN(in_features, out_features)\n",
    "optimizer = optim.Adam(model.parameters(), lr=0.01)\n",
    "loss_func = NLLLoss()\n",
    "\n",
    "for epoch in range(200):\n",
    "    model.train()\n",
    "    optimizer.zero_grad()\n",
    "    \n",
    "    # Forward pass\n",
    "    output = model(adjacency, input_features)\n",
    "    \n",
    "    # Compute the loss\n",
    "    loss = loss_func(output[train_mask], labels[train_mask])\n",
    "    \n",
    "    # Backward pass and optimization\n",
    "    loss.backward()\n",
    "    optimizer.step()"
   ]
  },
  {
   "cell_type": "code",
   "execution_count": 2,
   "metadata": {},
   "outputs": [],
   "source": [
    "def train(model, data, optimizer):\n",
    "    model.train()\n",
    "    optimizer.zero_grad()\n",
    "    out = model(data)\n",
    "    loss = F.nll_loss(out[data.train_mask], data.y[data.train_mask])\n",
    "    loss.backward()\n",
    "    optimizer.step()\n",
    "\n",
    "def test(model, data):\n",
    "    model.eval()\n",
    "    out = model(data)\n",
    "    pred = out.argmax(dim=1)\n",
    "    correct = pred[data.test_mask] == data.y[data.test_mask]\n",
    "    return int(correct.sum()) / int(data.test_mask.sum())"
   ]
  },
  {
   "cell_type": "code",
   "execution_count": 8,
   "metadata": {},
   "outputs": [
    {
     "data": {
      "text/plain": [
       "3703"
      ]
     },
     "execution_count": 8,
     "metadata": {},
     "output_type": "execute_result"
    }
   ],
   "source": [
    "dataset.num_node_features"
   ]
  },
  {
   "cell_type": "markdown",
   "metadata": {},
   "source": [
    "### Cora DATASET 확인"
   ]
  },
  {
   "cell_type": "code",
   "execution_count": 31,
   "metadata": {},
   "outputs": [
    {
     "name": "stderr",
     "output_type": "stream",
     "text": [
      "Downloading https://github.com/kimiyoung/planetoid/raw/master/data/ind.cora.x\n",
      "Downloading https://github.com/kimiyoung/planetoid/raw/master/data/ind.cora.tx\n",
      "Downloading https://github.com/kimiyoung/planetoid/raw/master/data/ind.cora.allx\n",
      "Downloading https://github.com/kimiyoung/planetoid/raw/master/data/ind.cora.y\n",
      "Downloading https://github.com/kimiyoung/planetoid/raw/master/data/ind.cora.ty\n",
      "Downloading https://github.com/kimiyoung/planetoid/raw/master/data/ind.cora.ally\n",
      "Downloading https://github.com/kimiyoung/planetoid/raw/master/data/ind.cora.graph\n",
      "Downloading https://github.com/kimiyoung/planetoid/raw/master/data/ind.cora.test.index\n",
      "Processing...\n",
      "Done!\n"
     ]
    }
   ],
   "source": [
    "dataset = Planetoid(root='/tmp/Cora', name='Cora')"
   ]
  },
  {
   "cell_type": "code",
   "execution_count": 45,
   "metadata": {},
   "outputs": [
    {
     "data": {
      "text/plain": [
       "tensor([[0., 0., 0.,  ..., 0., 0., 0.],\n",
       "        [0., 0., 0.,  ..., 0., 0., 0.],\n",
       "        [0., 0., 0.,  ..., 0., 0., 0.],\n",
       "        ...,\n",
       "        [0., 0., 0.,  ..., 0., 0., 0.],\n",
       "        [0., 0., 0.,  ..., 0., 0., 0.],\n",
       "        [0., 0., 0.,  ..., 0., 0., 0.]])"
      ]
     },
     "execution_count": 45,
     "metadata": {},
     "output_type": "execute_result"
    }
   ],
   "source": [
    "data = dataset[0]\n",
    "data.x"
   ]
  },
  {
   "cell_type": "code",
   "execution_count": 46,
   "metadata": {},
   "outputs": [
    {
     "data": {
      "text/plain": [
       "tensor([[   0,    1,    1,  ..., 3324, 3325, 3326],\n",
       "        [ 628,  158,  486,  ..., 2820, 1643,   33]])"
      ]
     },
     "execution_count": 46,
     "metadata": {},
     "output_type": "execute_result"
    }
   ],
   "source": [
    "data.edge_index"
   ]
  },
  {
   "cell_type": "code",
   "execution_count": 28,
   "metadata": {},
   "outputs": [
    {
     "data": {
      "text/plain": [
       "tensor([[0., 0., 0.,  ..., 0., 0., 0.],\n",
       "        [0., 0., 0.,  ..., 0., 0., 0.],\n",
       "        [0., 0., 0.,  ..., 0., 0., 0.],\n",
       "        ...,\n",
       "        [0., 0., 0.,  ..., 0., 0., 0.],\n",
       "        [0., 0., 0.,  ..., 0., 0., 0.],\n",
       "        [0., 0., 0.,  ..., 0., 0., 0.]])"
      ]
     },
     "execution_count": 28,
     "metadata": {},
     "output_type": "execute_result"
    }
   ],
   "source": [
    "data.x"
   ]
  },
  {
   "cell_type": "code",
   "execution_count": 47,
   "metadata": {},
   "outputs": [
    {
     "data": {
      "text/plain": [
       "3703"
      ]
     },
     "execution_count": 47,
     "metadata": {},
     "output_type": "execute_result"
    }
   ],
   "source": [
    "data.x.shape[1]"
   ]
  },
  {
   "cell_type": "code",
   "execution_count": 66,
   "metadata": {},
   "outputs": [
    {
     "data": {
      "text/plain": [
       "3703"
      ]
     },
     "execution_count": 66,
     "metadata": {},
     "output_type": "execute_result"
    }
   ],
   "source": [
    "data.x.size(1)"
   ]
  },
  {
   "cell_type": "code",
   "execution_count": 51,
   "metadata": {},
   "outputs": [
    {
     "data": {
      "text/plain": [
       "(3703, 6)"
      ]
     },
     "execution_count": 51,
     "metadata": {},
     "output_type": "execute_result"
    }
   ],
   "source": [
    "dataset.num_node_features, dataset.num_classes"
   ]
  },
  {
   "cell_type": "code",
   "execution_count": 48,
   "metadata": {},
   "outputs": [
    {
     "data": {
      "text/plain": [
       "Data(x=[3327, 3703], edge_index=[2, 9104], y=[3327], train_mask=[3327], val_mask=[3327], test_mask=[3327])"
      ]
     },
     "execution_count": 48,
     "metadata": {},
     "output_type": "execute_result"
    }
   ],
   "source": [
    "data"
   ]
  },
  {
   "cell_type": "code",
   "execution_count": 49,
   "metadata": {},
   "outputs": [
    {
     "data": {
      "text/plain": [
       "torch.Size([2, 9104])"
      ]
     },
     "execution_count": 49,
     "metadata": {},
     "output_type": "execute_result"
    }
   ],
   "source": [
    "data.edge_index.shape"
   ]
  },
  {
   "cell_type": "code",
   "execution_count": 52,
   "metadata": {},
   "outputs": [
    {
     "data": {
      "text/plain": [
       "torch.Size([3327, 6])"
      ]
     },
     "execution_count": 52,
     "metadata": {},
     "output_type": "execute_result"
    }
   ],
   "source": [
    "neighbor_weight = Parameter(torch.FloatTensor(3703, 6))\n",
    "torch.mm(data.x, neighbor_weight).shape"
   ]
  },
  {
   "cell_type": "markdown",
   "metadata": {},
   "source": [
    "### Ver 2"
   ]
  },
  {
   "cell_type": "code",
   "execution_count": 87,
   "metadata": {},
   "outputs": [],
   "source": [
    "import torch\n",
    "import torch.nn.functional as F\n",
    "from torch.nn import Parameter\n",
    "from torch import nn\n",
    "import torch_scatter\n",
    "\n",
    "class BasicGNN(nn.Module):\n",
    "    def __init__(self, input_dims, output_dims):\n",
    "        super().__init__()\n",
    "        self.input_dims = input_dims\n",
    "        self.output_dims = output_dims\n",
    "        self.self_weight = Parameter(torch.FloatTensor(input_dims, output_dims))\n",
    "        self.neighbor_weight = Parameter(torch.FloatTensor(input_dims, output_dims))\n",
    "        self.bias = Parameter(torch.FloatTensor(output_dims))\n",
    "        self.reset_parameters()\n",
    "\n",
    "    def reset_parameters(self):\n",
    "        nn.init.xavier_uniform_(self.self_weight)\n",
    "        nn.init.xavier_uniform_(self.neighbor_weight)\n",
    "        nn.init.zeros_(self.bias)\n",
    "\n",
    "    def forward(self, x, edge_index):\n",
    "        adj = self.symmetric_normalization(edge_index, x.size(0))\n",
    "\n",
    "        self_support = torch.mm(x, self.self_weight)\n",
    "        neighbor_support = torch.spmm(adj, torch.mm(x, self.neighbor_weight))\n",
    "        output = self_support + neighbor_support + self.bias\n",
    "        # output = torch.relu(output)\n",
    "        return output\n",
    "\n",
    "    def symmetric_normalization(self, edge_index, num_nodes):\n",
    "        row, col = edge_index\n",
    "\n",
    "        # Make D\n",
    "        deg = torch_scatter.scatter_add(torch.ones_like(row), row, dim_size=num_nodes).pow(-0.5)\n",
    "\n",
    "        # D^(-0.5)AD^(-0.5)\n",
    "        deg_row = deg[row]\n",
    "        deg_col = deg[col]\n",
    "        norm = deg_row * deg_col\n",
    "        norm_adj = torch.sparse.FloatTensor(edge_index, norm, torch.Size([num_nodes, num_nodes]))\n",
    "\n",
    "        return norm_adj\n"
   ]
  },
  {
   "cell_type": "code",
   "execution_count": 95,
   "metadata": {},
   "outputs": [
    {
     "data": {
      "text/plain": [
       "tensor([[1.0000,    inf,    inf],\n",
       "        [   inf, 1.1893,    inf],\n",
       "        [   inf,    inf, 1.0000]])"
      ]
     },
     "execution_count": 95,
     "metadata": {},
     "output_type": "execute_result"
    }
   ],
   "source": [
    "D = torch.FloatTensor([[1, 0, 0],\n",
    "    [0, 0.707, 0],\n",
    "    [0, 0, 1]])\n",
    "D.pow(-0.5)\n",
    "# compute sqrt of 0.707\n"
   ]
  },
  {
   "cell_type": "code",
   "execution_count": 82,
   "metadata": {},
   "outputs": [
    {
     "data": {
      "text/plain": [
       "tensor(indices=tensor([[   0,    1,    1,  ..., 3324, 3325, 3326],\n",
       "                       [ 628,  158,  486,  ..., 2820, 1643,   33]]),\n",
       "       values=tensor([1.0000, 0.2582, 0.1414,  ..., 0.2887, 1.0000, 0.4472]),\n",
       "       size=(3327, 3327), nnz=9104, layout=torch.sparse_coo)"
      ]
     },
     "execution_count": 82,
     "metadata": {},
     "output_type": "execute_result"
    }
   ],
   "source": [
    "edge_index = data.edge_index\n",
    "num_nodes = data.x.size(0)\n",
    "# torch.sparse.FloatTensor(row=edge_index[0], col=edge_index[1], sparse_sizes=(num_nodes, num_nodes))\n",
    "\n",
    "row, col = edge_index\n",
    "deg = torch_scatter.scatter_add(torch.ones_like(row), row, dim_size=num_nodes).pow(-0.5)\n",
    "\n",
    "# Symmetric normalization: D^(-0.5)AD^(-0.5)\n",
    "deg_row = deg[row]\n",
    "deg_col = deg[col]\n",
    "norm = deg_row * deg_col\n",
    "norm_adj = torch.sparse.FloatTensor(edge_index, norm, torch.Size([num_nodes, num_nodes]))\n",
    "norm_adj"
   ]
  },
  {
   "cell_type": "code",
   "execution_count": 68,
   "metadata": {},
   "outputs": [],
   "source": [
    "class Net(torch.nn.Module):\n",
    "    def __init__(self, num_node_features, num_classes):\n",
    "        super().__init__()\n",
    "\n",
    "        self.conv1 = BasicGNN(num_node_features, 16)\n",
    "        self.conv2 = BasicGNN(16, num_classes)\n",
    "\n",
    "        # Dropout layer\n",
    "        self.dropout = torch.nn.Dropout(p=0.6)\n",
    "\n",
    "    def forward(self, data):\n",
    "        x, edge_index = data.x, data.edge_index\n",
    "\n",
    "        x = self.dropout(x)\n",
    "        x = self.conv1(x, edge_index)\n",
    "        x = torch.nn.functional.relu(x)\n",
    "\n",
    "        x = self.dropout(x)\n",
    "        x = self.conv2(x, edge_index)\n",
    "\n",
    "        return torch.nn.functional.softmax(x, dim=1)"
   ]
  },
  {
   "cell_type": "code",
   "execution_count": 65,
   "metadata": {},
   "outputs": [
    {
     "name": "stdout",
     "output_type": "stream",
     "text": [
      "Epoch: 000, Accuracy: 0.0770\n",
      "Epoch: 010, Accuracy: 0.0770\n",
      "Epoch: 020, Accuracy: 0.0770\n",
      "Epoch: 030, Accuracy: 0.0770\n",
      "Epoch: 040, Accuracy: 0.0770\n",
      "Epoch: 050, Accuracy: 0.0770\n",
      "Epoch: 060, Accuracy: 0.0770\n",
      "Epoch: 070, Accuracy: 0.0770\n",
      "Epoch: 080, Accuracy: 0.0770\n",
      "Epoch: 090, Accuracy: 0.0770\n",
      "Epoch: 099, Accuracy: 0.0770\n"
     ]
    }
   ],
   "source": [
    "data = dataset[0]\n",
    "model = BasicGNN(dataset.num_node_features, dataset.num_classes)\n",
    "optimizer = torch.optim.Adam(model.parameters(), lr=0.01, weight_decay=5e-4)\n",
    "\n",
    "for epoch in range(100):\n",
    "    train(model, data, optimizer)\n",
    "    if epoch % 10 == 0:\n",
    "        acc = test(model, data)\n",
    "        print('Epoch: {:03d}, Accuracy: {:.4f}'.format(epoch, acc))\n",
    "print('Epoch: {:03d}, Accuracy: {:.4f}'.format(epoch, acc))"
   ]
  },
  {
   "cell_type": "code",
   "execution_count": 85,
   "metadata": {},
   "outputs": [
    {
     "name": "stdout",
     "output_type": "stream",
     "text": [
      "Epoch: 000, Accuracy: 0.2940\n",
      "Epoch: 010, Accuracy: 0.6420\n",
      "Epoch: 020, Accuracy: 0.6420\n",
      "Epoch: 030, Accuracy: 0.6670\n",
      "Epoch: 040, Accuracy: 0.6460\n",
      "Epoch: 050, Accuracy: 0.6620\n",
      "Epoch: 060, Accuracy: 0.6800\n",
      "Epoch: 070, Accuracy: 0.6760\n",
      "Epoch: 080, Accuracy: 0.6520\n",
      "Epoch: 090, Accuracy: 0.6740\n",
      "Epoch: 099, Accuracy: 0.6740\n"
     ]
    }
   ],
   "source": [
    "data = dataset[0]\n",
    "model = Net(dataset.num_node_features, dataset.num_classes)\n",
    "optimizer = torch.optim.Adam(model.parameters(), lr=0.01, weight_decay=5e-4)\n",
    "\n",
    "for epoch in range(100):\n",
    "    train(model, data, optimizer)\n",
    "    if epoch % 10 == 0:\n",
    "        acc = test(model, data)\n",
    "        print('Epoch: {:03d}, Accuracy: {:.4f}'.format(epoch, acc))\n",
    "print('Epoch: {:03d}, Accuracy: {:.4f}'.format(epoch, acc))"
   ]
  },
  {
   "cell_type": "code",
   "execution_count": null,
   "metadata": {},
   "outputs": [],
   "source": []
  }
 ],
 "metadata": {
  "kernelspec": {
   "display_name": "Python 3",
   "language": "python",
   "name": "python3"
  },
  "language_info": {
   "codemirror_mode": {
    "name": "ipython",
    "version": 3
   },
   "file_extension": ".py",
   "mimetype": "text/x-python",
   "name": "python",
   "nbconvert_exporter": "python",
   "pygments_lexer": "ipython3",
   "version": "3.9.6"
  }
 },
 "nbformat": 4,
 "nbformat_minor": 2
}
